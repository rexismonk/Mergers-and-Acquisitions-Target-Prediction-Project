{
 "cells": [
  {
   "cell_type": "code",
   "execution_count": 1,
   "id": "7cde209a-ee59-4c52-956e-1503cf6353f1",
   "metadata": {},
   "outputs": [],
   "source": [
    "import pandas as pd\n",
    "import numpy as np\n",
    "from sklearn.preprocessing import StandardScaler, OneHotEncoder\n",
    "from sklearn.compose import ColumnTransformer\n",
    "from sklearn.pipeline import Pipeline\n",
    "import warnings\n",
    "warnings.filterwarnings('ignore')\n",
    "\n",
    "# Set display options\n",
    "pd.set_option('display.max_columns', 100)"
   ]
  },
  {
   "cell_type": "code",
   "execution_count": 2,
   "id": "a5042960-eb40-4da6-abf8-7a6ce39e1d85",
   "metadata": {},
   "outputs": [
    {
     "name": "stdout",
     "output_type": "stream",
     "text": [
      "Processed data loaded successfully!\n",
      "Dataset shape: (38398, 15)\n"
     ]
    }
   ],
   "source": [
    "processed_path = 'cleaned_data_with_target.csv'\n",
    "\n",
    "try:\n",
    "    df = pd.read_csv(processed_path)\n",
    "    print(\"Processed data loaded successfully!\")\n",
    "    print(f\"Dataset shape: {df.shape}\")\n",
    "except FileNotFoundError:\n",
    "    print(f\"Error: File not found at {processed_path}\")"
   ]
  },
  {
   "cell_type": "code",
   "execution_count": 3,
   "id": "92e0480d-4861-4421-bd6b-1fb183653ed2",
   "metadata": {},
   "outputs": [
    {
     "name": "stdout",
     "output_type": "stream",
     "text": [
      "Created 'company_age_days' feature.\n"
     ]
    },
    {
     "data": {
      "text/html": [
       "<div>\n",
       "<style scoped>\n",
       "    .dataframe tbody tr th:only-of-type {\n",
       "        vertical-align: middle;\n",
       "    }\n",
       "\n",
       "    .dataframe tbody tr th {\n",
       "        vertical-align: top;\n",
       "    }\n",
       "\n",
       "    .dataframe thead th {\n",
       "        text-align: right;\n",
       "    }\n",
       "</style>\n",
       "<table border=\"1\" class=\"dataframe\">\n",
       "  <thead>\n",
       "    <tr style=\"text-align: right;\">\n",
       "      <th></th>\n",
       "      <th>founded_at</th>\n",
       "      <th>last_funding_at</th>\n",
       "      <th>company_age_days</th>\n",
       "    </tr>\n",
       "  </thead>\n",
       "  <tbody>\n",
       "    <tr>\n",
       "      <th>0</th>\n",
       "      <td>2012-06-01</td>\n",
       "      <td>2012-06-30</td>\n",
       "      <td>29.0</td>\n",
       "    </tr>\n",
       "    <tr>\n",
       "      <th>2</th>\n",
       "      <td>2012-10-26</td>\n",
       "      <td>2012-08-09</td>\n",
       "      <td>-78.0</td>\n",
       "    </tr>\n",
       "    <tr>\n",
       "      <th>3</th>\n",
       "      <td>2011-04-01</td>\n",
       "      <td>2011-04-01</td>\n",
       "      <td>0.0</td>\n",
       "    </tr>\n",
       "    <tr>\n",
       "      <th>4</th>\n",
       "      <td>2014-01-01</td>\n",
       "      <td>2014-09-26</td>\n",
       "      <td>268.0</td>\n",
       "    </tr>\n",
       "    <tr>\n",
       "      <th>5</th>\n",
       "      <td>2011-10-10</td>\n",
       "      <td>2013-05-31</td>\n",
       "      <td>599.0</td>\n",
       "    </tr>\n",
       "  </tbody>\n",
       "</table>\n",
       "</div>"
      ],
      "text/plain": [
       "  founded_at last_funding_at  company_age_days\n",
       "0 2012-06-01      2012-06-30              29.0\n",
       "2 2012-10-26      2012-08-09             -78.0\n",
       "3 2011-04-01      2011-04-01               0.0\n",
       "4 2014-01-01      2014-09-26             268.0\n",
       "5 2011-10-10      2013-05-31             599.0"
      ]
     },
     "execution_count": 3,
     "metadata": {},
     "output_type": "execute_result"
    }
   ],
   "source": [
    "# Ensure date columns are in datetime format\n",
    "df['founded_at'] = pd.to_datetime(df['founded_at'], errors='coerce')\n",
    "df['last_funding_at'] = pd.to_datetime(df['last_funding_at'], errors='coerce')\n",
    "\n",
    "# Calculate age in days\n",
    "df['company_age_days'] = (df['last_funding_at'] - df['founded_at']).dt.days\n",
    "\n",
    "# Drop rows where age could not be calculated\n",
    "df.dropna(subset=['company_age_days'], inplace=True)\n",
    "\n",
    "print(\"Created 'company_age_days' feature.\")\n",
    "df[['founded_at', 'last_funding_at', 'company_age_days']].head()"
   ]
  },
  {
   "cell_type": "code",
   "execution_count": 4,
   "id": "bedf76ac-3174-4fd9-8703-039bae9b592f",
   "metadata": {},
   "outputs": [
    {
     "name": "stdout",
     "output_type": "stream",
     "text": [
      "Number of unique markets before simplification: 714\n",
      "Number of unique markets after simplification: 16\n",
      "\n",
      "New market distribution:\n",
      "market_simplified\n",
      "Other                    14561\n",
      " Software                 3328\n",
      " Biotechnology            2375\n",
      " Mobile                   1402\n",
      " E-Commerce               1175\n",
      " Curated Web              1094\n",
      " Enterprise Software       966\n",
      " Health Care               817\n",
      " Advertising               778\n",
      " Hardware + Software       767\n",
      " Games                     758\n",
      " Clean Technology          684\n",
      " Social Media              624\n",
      " Health and Wellness       588\n",
      " Education                 572\n",
      " Finance                   547\n",
      "Name: count, dtype: int64\n"
     ]
    }
   ],
   "source": [
    "print(f\"Number of unique markets before simplification: {df['market'].nunique()}\")\n",
    "\n",
    "# Get the top 15 most frequent markets\n",
    "top_markets = df['market'].value_counts().nlargest(15).index\n",
    "\n",
    "df['market_simplified'] = df['market'].apply(lambda x: x if x in top_markets else 'Other')\n",
    "\n",
    "print(f\"Number of unique markets after simplification: {df['market_simplified'].nunique()}\")\n",
    "print(\"\\nNew market distribution:\")\n",
    "print(df['market_simplified'].value_counts())"
   ]
  },
  {
   "cell_type": "code",
   "execution_count": 5,
   "id": "853567de-ca19-4b17-821b-fa084b45139e",
   "metadata": {},
   "outputs": [
    {
     "name": "stdout",
     "output_type": "stream",
     "text": [
      "Features and target variable are ready.\n"
     ]
    }
   ],
   "source": [
    "# Define which columns are numerical and which are categorical\n",
    "numerical_features = ['funding_total_usd', 'funding_rounds', 'seed', 'venture', 'round_A', 'round_B', 'round_C', 'company_age_days']\n",
    "categorical_features = ['market_simplified', 'country_code']\n",
    "\n",
    "# Separate features (X) and target (y)\n",
    "X = df[numerical_features + categorical_features]\n",
    "y = df['acquired_within_1_year']\n",
    "\n",
    "# Fill any remaining NaN values in numerical columns with the median\n",
    "for col in numerical_features:\n",
    "    median_val = X[col].median()\n",
    "    X[col].fillna(median_val, inplace=True)\n",
    "\n",
    "# Fill NaNs in categorical features with 'missing'\n",
    "for col in categorical_features:\n",
    "    X[col].fillna('missing', inplace=True)\n",
    "\n",
    "print(\"Features and target variable are ready.\")"
   ]
  },
  {
   "cell_type": "code",
   "execution_count": 6,
   "id": "18f0e0f9-b608-4c59-8559-94ccc20c3102",
   "metadata": {},
   "outputs": [
    {
     "name": "stdout",
     "output_type": "stream",
     "text": [
      "Final dataset for modeling saved to final_modeling_data.csv\n",
      "Shape of the final dataset: (31036, 11)\n"
     ]
    },
    {
     "data": {
      "text/html": [
       "<div>\n",
       "<style scoped>\n",
       "    .dataframe tbody tr th:only-of-type {\n",
       "        vertical-align: middle;\n",
       "    }\n",
       "\n",
       "    .dataframe tbody tr th {\n",
       "        vertical-align: top;\n",
       "    }\n",
       "\n",
       "    .dataframe thead th {\n",
       "        text-align: right;\n",
       "    }\n",
       "</style>\n",
       "<table border=\"1\" class=\"dataframe\">\n",
       "  <thead>\n",
       "    <tr style=\"text-align: right;\">\n",
       "      <th></th>\n",
       "      <th>funding_total_usd</th>\n",
       "      <th>funding_rounds</th>\n",
       "      <th>seed</th>\n",
       "      <th>venture</th>\n",
       "      <th>round_A</th>\n",
       "      <th>round_B</th>\n",
       "      <th>round_C</th>\n",
       "      <th>company_age_days</th>\n",
       "      <th>market_simplified</th>\n",
       "      <th>country_code</th>\n",
       "      <th>acquired_within_1_year</th>\n",
       "    </tr>\n",
       "  </thead>\n",
       "  <tbody>\n",
       "    <tr>\n",
       "      <th>0</th>\n",
       "      <td>1750000.0</td>\n",
       "      <td>1.0</td>\n",
       "      <td>1750000.0</td>\n",
       "      <td>0.0</td>\n",
       "      <td>0.0</td>\n",
       "      <td>0.0</td>\n",
       "      <td>0.0</td>\n",
       "      <td>29.0</td>\n",
       "      <td>Other</td>\n",
       "      <td>USA</td>\n",
       "      <td>0</td>\n",
       "    </tr>\n",
       "    <tr>\n",
       "      <th>2</th>\n",
       "      <td>40000.0</td>\n",
       "      <td>1.0</td>\n",
       "      <td>40000.0</td>\n",
       "      <td>0.0</td>\n",
       "      <td>0.0</td>\n",
       "      <td>0.0</td>\n",
       "      <td>0.0</td>\n",
       "      <td>-78.0</td>\n",
       "      <td>Other</td>\n",
       "      <td>EST</td>\n",
       "      <td>0</td>\n",
       "    </tr>\n",
       "    <tr>\n",
       "      <th>3</th>\n",
       "      <td>1500000.0</td>\n",
       "      <td>1.0</td>\n",
       "      <td>1500000.0</td>\n",
       "      <td>0.0</td>\n",
       "      <td>0.0</td>\n",
       "      <td>0.0</td>\n",
       "      <td>0.0</td>\n",
       "      <td>0.0</td>\n",
       "      <td>Other</td>\n",
       "      <td>GBR</td>\n",
       "      <td>0</td>\n",
       "    </tr>\n",
       "    <tr>\n",
       "      <th>4</th>\n",
       "      <td>60000.0</td>\n",
       "      <td>2.0</td>\n",
       "      <td>0.0</td>\n",
       "      <td>0.0</td>\n",
       "      <td>0.0</td>\n",
       "      <td>0.0</td>\n",
       "      <td>0.0</td>\n",
       "      <td>268.0</td>\n",
       "      <td>Other</td>\n",
       "      <td>USA</td>\n",
       "      <td>0</td>\n",
       "    </tr>\n",
       "    <tr>\n",
       "      <th>5</th>\n",
       "      <td>7000000.0</td>\n",
       "      <td>1.0</td>\n",
       "      <td>0.0</td>\n",
       "      <td>7000000.0</td>\n",
       "      <td>0.0</td>\n",
       "      <td>7000000.0</td>\n",
       "      <td>0.0</td>\n",
       "      <td>599.0</td>\n",
       "      <td>Software</td>\n",
       "      <td>USA</td>\n",
       "      <td>0</td>\n",
       "    </tr>\n",
       "  </tbody>\n",
       "</table>\n",
       "</div>"
      ],
      "text/plain": [
       "   funding_total_usd  funding_rounds       seed    venture  round_A  \\\n",
       "0          1750000.0             1.0  1750000.0        0.0      0.0   \n",
       "2            40000.0             1.0    40000.0        0.0      0.0   \n",
       "3          1500000.0             1.0  1500000.0        0.0      0.0   \n",
       "4            60000.0             2.0        0.0        0.0      0.0   \n",
       "5          7000000.0             1.0        0.0  7000000.0      0.0   \n",
       "\n",
       "     round_B  round_C  company_age_days market_simplified country_code  \\\n",
       "0        0.0      0.0              29.0             Other          USA   \n",
       "2        0.0      0.0             -78.0             Other          EST   \n",
       "3        0.0      0.0               0.0             Other          GBR   \n",
       "4        0.0      0.0             268.0             Other          USA   \n",
       "5  7000000.0      0.0             599.0         Software           USA   \n",
       "\n",
       "   acquired_within_1_year  \n",
       "0                       0  \n",
       "2                       0  \n",
       "3                       0  \n",
       "4                       0  \n",
       "5                       0  "
      ]
     },
     "execution_count": 6,
     "metadata": {},
     "output_type": "execute_result"
    }
   ],
   "source": [
    "# Combine X and y for saving\n",
    "final_df_for_modeling = pd.concat([X, y], axis=1)\n",
    "\n",
    "output_path = 'final_modeling_data.csv'\n",
    "final_df_for_modeling.to_csv(output_path, index=False)\n",
    "\n",
    "print(f\"Final dataset for modeling saved to {output_path}\")\n",
    "print(f\"Shape of the final dataset: {final_df_for_modeling.shape}\")\n",
    "final_df_for_modeling.head()"
   ]
  },
  {
   "cell_type": "code",
   "execution_count": null,
   "id": "e014f0c2-f8a7-4196-8b5a-998ed634654b",
   "metadata": {},
   "outputs": [],
   "source": []
  }
 ],
 "metadata": {
  "kernelspec": {
   "display_name": "Python [conda env:base] *",
   "language": "python",
   "name": "conda-base-py"
  },
  "language_info": {
   "codemirror_mode": {
    "name": "ipython",
    "version": 3
   },
   "file_extension": ".py",
   "mimetype": "text/x-python",
   "name": "python",
   "nbconvert_exporter": "python",
   "pygments_lexer": "ipython3",
   "version": "3.13.5"
  }
 },
 "nbformat": 4,
 "nbformat_minor": 5
}
